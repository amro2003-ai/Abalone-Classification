{
  "cells": [
    {
      "cell_type": "code",
      "execution_count": 1,
      "metadata": {},
      "outputs": [],
      "source": [
        "import pandas as pd\n",
        "import numpy as np\n",
        "\n",
        "from sklearn.model_selection import train_test_split\n",
        "from sklearn.preprocessing import StandardScaler, LabelEncoder\n",
        "from sklearn.linear_model import LinearRegression\n",
        "from sklearn.tree import DecisionTreeRegressor\n",
        "from sklearn.ensemble import RandomForestRegressor\n",
        "from sklearn.metrics import root_mean_squared_error, mean_absolute_error, r2_score \n",
        "\n",
        "import mlflow\n",
        "import mlflow.sklearn"
      ]
    },
    {
      "cell_type": "markdown",
      "metadata": {},
      "source": [
        "### Read Data and Preproccessing"
      ]
    },
    {
      "cell_type": "code",
      "execution_count": 77,
      "metadata": {},
      "outputs": [
        {
          "data": {
            "text/html": [
              "<div>\n",
              "<style scoped>\n",
              "    .dataframe tbody tr th:only-of-type {\n",
              "        vertical-align: middle;\n",
              "    }\n",
              "\n",
              "    .dataframe tbody tr th {\n",
              "        vertical-align: top;\n",
              "    }\n",
              "\n",
              "    .dataframe thead th {\n",
              "        text-align: right;\n",
              "    }\n",
              "</style>\n",
              "<table border=\"1\" class=\"dataframe\">\n",
              "  <thead>\n",
              "    <tr style=\"text-align: right;\">\n",
              "      <th></th>\n",
              "      <th>Sex</th>\n",
              "      <th>Length</th>\n",
              "      <th>Diameter</th>\n",
              "      <th>Height</th>\n",
              "      <th>Whole weight</th>\n",
              "      <th>Shucked weight</th>\n",
              "      <th>Viscera weight</th>\n",
              "      <th>Shell weight</th>\n",
              "      <th>Rings</th>\n",
              "    </tr>\n",
              "  </thead>\n",
              "  <tbody>\n",
              "    <tr>\n",
              "      <th>0</th>\n",
              "      <td>M</td>\n",
              "      <td>0.455</td>\n",
              "      <td>0.365</td>\n",
              "      <td>0.095</td>\n",
              "      <td>0.5140</td>\n",
              "      <td>0.2245</td>\n",
              "      <td>0.1010</td>\n",
              "      <td>0.150</td>\n",
              "      <td>15</td>\n",
              "    </tr>\n",
              "    <tr>\n",
              "      <th>1</th>\n",
              "      <td>M</td>\n",
              "      <td>0.350</td>\n",
              "      <td>0.265</td>\n",
              "      <td>0.090</td>\n",
              "      <td>0.2255</td>\n",
              "      <td>0.0995</td>\n",
              "      <td>0.0485</td>\n",
              "      <td>0.070</td>\n",
              "      <td>7</td>\n",
              "    </tr>\n",
              "    <tr>\n",
              "      <th>2</th>\n",
              "      <td>F</td>\n",
              "      <td>0.530</td>\n",
              "      <td>0.420</td>\n",
              "      <td>0.135</td>\n",
              "      <td>0.6770</td>\n",
              "      <td>0.2565</td>\n",
              "      <td>0.1415</td>\n",
              "      <td>0.210</td>\n",
              "      <td>9</td>\n",
              "    </tr>\n",
              "    <tr>\n",
              "      <th>3</th>\n",
              "      <td>M</td>\n",
              "      <td>0.440</td>\n",
              "      <td>0.365</td>\n",
              "      <td>0.125</td>\n",
              "      <td>0.5160</td>\n",
              "      <td>0.2155</td>\n",
              "      <td>0.1140</td>\n",
              "      <td>0.155</td>\n",
              "      <td>10</td>\n",
              "    </tr>\n",
              "    <tr>\n",
              "      <th>4</th>\n",
              "      <td>I</td>\n",
              "      <td>0.330</td>\n",
              "      <td>0.255</td>\n",
              "      <td>0.080</td>\n",
              "      <td>0.2050</td>\n",
              "      <td>0.0895</td>\n",
              "      <td>0.0395</td>\n",
              "      <td>0.055</td>\n",
              "      <td>7</td>\n",
              "    </tr>\n",
              "  </tbody>\n",
              "</table>\n",
              "</div>"
            ],
            "text/plain": [
              "  Sex  Length  Diameter  Height  Whole weight  Shucked weight  Viscera weight  \\\n",
              "0   M   0.455     0.365   0.095        0.5140          0.2245          0.1010   \n",
              "1   M   0.350     0.265   0.090        0.2255          0.0995          0.0485   \n",
              "2   F   0.530     0.420   0.135        0.6770          0.2565          0.1415   \n",
              "3   M   0.440     0.365   0.125        0.5160          0.2155          0.1140   \n",
              "4   I   0.330     0.255   0.080        0.2050          0.0895          0.0395   \n",
              "\n",
              "   Shell weight  Rings  \n",
              "0         0.150     15  \n",
              "1         0.070      7  \n",
              "2         0.210      9  \n",
              "3         0.155     10  \n",
              "4         0.055      7  "
            ]
          },
          "execution_count": 77,
          "metadata": {},
          "output_type": "execute_result"
        }
      ],
      "source": [
        "data = pd.read_csv(\"abalone.csv\")\n",
        "data.head()"
      ]
    },
    {
      "cell_type": "code",
      "execution_count": 78,
      "metadata": {},
      "outputs": [],
      "source": [
        "y = data[\"Rings\"]\n",
        "X = data.drop(columns=[\"Rings\"])"
      ]
    },
    {
      "cell_type": "code",
      "execution_count": 79,
      "metadata": {},
      "outputs": [],
      "source": [
        "X_train, X_test, y_train, y_test = train_test_split(X, y, test_size=0.2, random_state=42)"
      ]
    },
    {
      "cell_type": "code",
      "execution_count": 80,
      "metadata": {},
      "outputs": [],
      "source": [
        "encoder = LabelEncoder()\n",
        "\n",
        "X_train[\"Sex\"] = encoder.fit_transform(X_train[\"Sex\"])\n",
        "X_test[\"Sex\"] = encoder.transform(X_test[\"Sex\"])"
      ]
    },
    {
      "cell_type": "code",
      "execution_count": 82,
      "metadata": {},
      "outputs": [],
      "source": [
        "scaler = StandardScaler()\n",
        "X_train_scaled = scaler.fit_transform(X_train)\n",
        "X_test_scaled = scaler.transform(X_test)"
      ]
    },
    {
      "cell_type": "code",
      "execution_count": 65,
      "metadata": {},
      "outputs": [],
      "source": [
        "def add_noise(X, noise_level=0.1):\n",
        "    noise = np.random.normal(0, noise_level, X.shape)\n",
        "    return X + noise"
      ]
    },
    {
      "cell_type": "markdown",
      "metadata": {},
      "source": [
        "### Testing"
      ]
    },
    {
      "cell_type": "code",
      "execution_count": 88,
      "metadata": {},
      "outputs": [],
      "source": [
        "models  = {\n",
        "    LinearRegression(),\n",
        "    DecisionTreeRegressor(max_depth=5, min_samples_split=2, min_samples_leaf=1),\n",
        "    RandomForestRegressor(n_estimators = 100, max_depth=  10,  min_samples_split= 2)\n",
        "}"
      ]
    },
    {
      "cell_type": "code",
      "execution_count": 90,
      "metadata": {},
      "outputs": [
        {
          "name": "stderr",
          "output_type": "stream",
          "text": [
            "2025/01/10 23:32:16 INFO mlflow.tracking.fluent: Experiment with name 'Abalone Classification' does not exist. Creating a new experiment.\n",
            "2025/01/10 23:32:29 WARNING mlflow.models.model: Model logged without a signature and input example. Please set `input_example` parameter when logging the model to auto infer the model signature.\n"
          ]
        },
        {
          "name": "stdout",
          "output_type": "stream",
          "text": [
            "🏃 View run DecisionTreeRegressor at: http://localhost:5000/#/experiments/908622595079996776/runs/cb4bad7c072f4527acf11306f365e436\n",
            "🧪 View experiment at: http://localhost:5000/#/experiments/908622595079996776\n"
          ]
        },
        {
          "name": "stderr",
          "output_type": "stream",
          "text": [
            "2025/01/10 23:32:37 WARNING mlflow.models.model: Model logged without a signature and input example. Please set `input_example` parameter when logging the model to auto infer the model signature.\n"
          ]
        },
        {
          "name": "stdout",
          "output_type": "stream",
          "text": [
            "🏃 View run RandomForestRegressor at: http://localhost:5000/#/experiments/908622595079996776/runs/1771380f45d246b18e8d2c5628cd2145\n",
            "🧪 View experiment at: http://localhost:5000/#/experiments/908622595079996776\n"
          ]
        },
        {
          "name": "stderr",
          "output_type": "stream",
          "text": [
            "2025/01/10 23:32:42 WARNING mlflow.models.model: Model logged without a signature and input example. Please set `input_example` parameter when logging the model to auto infer the model signature.\n"
          ]
        },
        {
          "name": "stdout",
          "output_type": "stream",
          "text": [
            "🏃 View run LinearRegression at: http://localhost:5000/#/experiments/908622595079996776/runs/ddd4a7f781874f848d866eac17545e35\n",
            "🧪 View experiment at: http://localhost:5000/#/experiments/908622595079996776\n"
          ]
        }
      ],
      "source": [
        "mlflow.set_experiment(\"Abalone Classification\")\n",
        "mlflow.set_tracking_uri(\"http://localhost:5000\")\n",
        "\n",
        "for model in models:\n",
        "\n",
        "    model_name = type(model).__name__\n",
        "    model_params = model.get_params()\n",
        "\n",
        "    with mlflow.start_run(run_name=model_name):\n",
        "\n",
        "        mlflow.log_params(model_params)\n",
        "        model.fit(X_train_scaled, y_train)\n",
        "\n",
        "\n",
        "        y_pred = model.predict(X_test_scaled)\n",
        "        rmse = root_mean_squared_error(y_test, y_pred)\n",
        "        mae = mean_absolute_error(y_test, y_pred)\n",
        "        r2 = r2_score(y_test, y_pred)\n",
        "\n",
        "        results = {\n",
        "        \"RMSE\": rmse,\n",
        "        \"MAE\": mae,\n",
        "        \"R2\": r2\n",
        "        }\n",
        "        \n",
        "        mlflow.log_metrics(results)\n",
        "        mlflow.sklearn.log_model(model, \"model\")"
      ]
    },
    {
      "cell_type": "markdown",
      "metadata": {},
      "source": [
        "The three gave similar results. The best model was RandomForest with the lowest RMSE and MAE. The R2 indicates no overfitting."
      ]
    },
    {
      "cell_type": "markdown",
      "metadata": {},
      "source": [
        "### Perturbation tests"
      ]
    },
    {
      "cell_type": "code",
      "execution_count": 67,
      "metadata": {},
      "outputs": [],
      "source": [
        "X_train_perturbed = add_noise(X_train_scaled)\n",
        "X_test_perturbed = add_noise(X_test_scaled)"
      ]
    },
    {
      "cell_type": "code",
      "execution_count": 91,
      "metadata": {},
      "outputs": [
        {
          "name": "stderr",
          "output_type": "stream",
          "text": [
            "2025/01/10 23:36:31 WARNING mlflow.models.model: Model logged without a signature and input example. Please set `input_example` parameter when logging the model to auto infer the model signature.\n"
          ]
        },
        {
          "name": "stdout",
          "output_type": "stream",
          "text": [
            "🏃 View run DecisionTreeRegressor perturbed at: http://localhost:5000/#/experiments/908622595079996776/runs/548fc0b0190045a28e039ebf123dd439\n",
            "🧪 View experiment at: http://localhost:5000/#/experiments/908622595079996776\n"
          ]
        },
        {
          "name": "stderr",
          "output_type": "stream",
          "text": [
            "2025/01/10 23:36:38 WARNING mlflow.models.model: Model logged without a signature and input example. Please set `input_example` parameter when logging the model to auto infer the model signature.\n"
          ]
        },
        {
          "name": "stdout",
          "output_type": "stream",
          "text": [
            "🏃 View run RandomForestRegressor perturbed at: http://localhost:5000/#/experiments/908622595079996776/runs/f22e421df8304ac5ab1573a17e250537\n",
            "🧪 View experiment at: http://localhost:5000/#/experiments/908622595079996776\n"
          ]
        },
        {
          "name": "stderr",
          "output_type": "stream",
          "text": [
            "2025/01/10 23:36:43 WARNING mlflow.models.model: Model logged without a signature and input example. Please set `input_example` parameter when logging the model to auto infer the model signature.\n"
          ]
        },
        {
          "name": "stdout",
          "output_type": "stream",
          "text": [
            "🏃 View run LinearRegression perturbed at: http://localhost:5000/#/experiments/908622595079996776/runs/d78a39e6585d4d3eb12381a1a0260b32\n",
            "🧪 View experiment at: http://localhost:5000/#/experiments/908622595079996776\n"
          ]
        }
      ],
      "source": [
        "mlflow.set_experiment(\"Abalone Classification\")\n",
        "mlflow.set_tracking_uri(\"http://localhost:5000\")\n",
        "\n",
        "for model in models:\n",
        "    model_name = type(model).__name__\n",
        "    model_params = model.get_params()\n",
        "\n",
        "    with mlflow.start_run(run_name=model_name + \" perturbed\"):\n",
        "\n",
        "        model.fit(X_train_perturbed, y_train)\n",
        "\n",
        "\n",
        "        y_pred = model.predict(X_test_perturbed)\n",
        "        rmse = root_mean_squared_error(y_test, y_pred)\n",
        "        mae = mean_absolute_error(y_test, y_pred)\n",
        "        r2 = r2_score(y_test, y_pred)\n",
        "\n",
        "        results = {\n",
        "        \"RMSE\": rmse,\n",
        "        \"MAE\": mae,\n",
        "        \"R2\": r2\n",
        "        }\n",
        "        \n",
        "        mlflow.log_metrics(results)\n",
        "        mlflow.sklearn.log_model(model, \"model\")"
      ]
    },
    {
      "cell_type": "markdown",
      "metadata": {},
      "source": [
        "When adding noise to the data, the results remained close to the previous ones, and RandomForst remained the best."
      ]
    },
    {
      "cell_type": "markdown",
      "metadata": {},
      "source": [
        "### Invariance tests"
      ]
    },
    {
      "cell_type": "code",
      "execution_count": 69,
      "metadata": {},
      "outputs": [],
      "source": [
        "scaler2 = StandardScaler()\n",
        "X_train_invariance = scaler2.fit_transform(X_train.drop(columns=[\"Sex\"]))\n",
        "X_test_invariance = scaler2.transform(X_test.drop(columns=[\"Sex\"]))"
      ]
    },
    {
      "cell_type": "code",
      "execution_count": 92,
      "metadata": {},
      "outputs": [
        {
          "name": "stderr",
          "output_type": "stream",
          "text": [
            "2025/01/10 23:40:30 WARNING mlflow.models.model: Model logged without a signature and input example. Please set `input_example` parameter when logging the model to auto infer the model signature.\n"
          ]
        },
        {
          "name": "stdout",
          "output_type": "stream",
          "text": [
            "🏃 View run DecisionTreeRegressor Invariance at: http://localhost:5000/#/experiments/908622595079996776/runs/0b029373d41d436a8683f63395a08558\n",
            "🧪 View experiment at: http://localhost:5000/#/experiments/908622595079996776\n"
          ]
        },
        {
          "name": "stderr",
          "output_type": "stream",
          "text": [
            "2025/01/10 23:40:37 WARNING mlflow.models.model: Model logged without a signature and input example. Please set `input_example` parameter when logging the model to auto infer the model signature.\n"
          ]
        },
        {
          "name": "stdout",
          "output_type": "stream",
          "text": [
            "🏃 View run RandomForestRegressor Invariance at: http://localhost:5000/#/experiments/908622595079996776/runs/392405c531fa46838557882df0bc8dea\n",
            "🧪 View experiment at: http://localhost:5000/#/experiments/908622595079996776\n"
          ]
        },
        {
          "name": "stderr",
          "output_type": "stream",
          "text": [
            "2025/01/10 23:40:43 WARNING mlflow.models.model: Model logged without a signature and input example. Please set `input_example` parameter when logging the model to auto infer the model signature.\n"
          ]
        },
        {
          "name": "stdout",
          "output_type": "stream",
          "text": [
            "🏃 View run LinearRegression Invariance at: http://localhost:5000/#/experiments/908622595079996776/runs/a0fec68be3354dc3a1f6ebba2cde80ca\n",
            "🧪 View experiment at: http://localhost:5000/#/experiments/908622595079996776\n"
          ]
        }
      ],
      "source": [
        "mlflow.set_experiment(\"Abalone Classification\")\n",
        "mlflow.set_tracking_uri(\"http://localhost:5000\")\n",
        "\n",
        "for model in models:\n",
        "    model_name = type(model).__name__\n",
        "    model_params = model.get_params()\n",
        "\n",
        "    with mlflow.start_run(run_name=model_name + \" Invariance\"):\n",
        "\n",
        "        model.fit(X_train_invariance, y_train)\n",
        "\n",
        "\n",
        "        y_pred = model.predict(X_test_invariance)\n",
        "        rmse = root_mean_squared_error(y_test, y_pred)\n",
        "        mae = mean_absolute_error(y_test, y_pred)\n",
        "        r2 = r2_score(y_test, y_pred)\n",
        "\n",
        "        results = {\n",
        "        \"RMSE\": rmse,\n",
        "        \"MAE\": mae,\n",
        "        \"R2\": r2\n",
        "        }\n",
        "        \n",
        "        mlflow.log_metrics(results)\n",
        "        mlflow.sklearn.log_model(model, \"model\")"
      ]
    },
    {
      "cell_type": "markdown",
      "metadata": {},
      "source": [
        "When drop sex column from data, the results remained close to the previous ones, and RandomForst remained the best."
      ]
    },
    {
      "cell_type": "markdown",
      "metadata": {},
      "source": [
        "### Directional expectation tests"
      ]
    },
    {
      "cell_type": "code",
      "execution_count": 93,
      "metadata": {},
      "outputs": [],
      "source": [
        "df = pd.DataFrame([[\"M\", 0.445, 0.365, 0.095, \n",
        "                              0.5140, 0.2245, 0.1010, 0.150]], \n",
        "                            columns=X_train.columns)\n",
        "\n",
        "df_add = pd.DataFrame([[\"M\", 0.85, 0.365, 0.095, \n",
        "                              0.5140, 0.2245, 0.1010, 0.150]], \n",
        "                            columns=X_train.columns)\n",
        "\n",
        "df[\"Sex\"] = encoder.transform(df[\"Sex\"])\n",
        "df_add[\"Sex\"] = encoder.transform(df_add[\"Sex\"])\n",
        "\n",
        "\n",
        "df_scaled = scaler.transform(df)\n",
        "df_add_scaled = scaler.transform(df_add)"
      ]
    },
    {
      "cell_type": "code",
      "execution_count": 95,
      "metadata": {},
      "outputs": [
        {
          "name": "stderr",
          "output_type": "stream",
          "text": [
            "2025/01/10 23:48:29 WARNING mlflow.models.model: Model logged without a signature and input example. Please set `input_example` parameter when logging the model to auto infer the model signature.\n"
          ]
        },
        {
          "name": "stdout",
          "output_type": "stream",
          "text": [
            "🏃 View run DecisionTreeRegressor Directional at: http://localhost:5000/#/experiments/908622595079996776/runs/e7ec79f3fe624496860b10ceebc398aa\n",
            "🧪 View experiment at: http://localhost:5000/#/experiments/908622595079996776\n"
          ]
        },
        {
          "name": "stderr",
          "output_type": "stream",
          "text": [
            "2025/01/10 23:48:36 WARNING mlflow.models.model: Model logged without a signature and input example. Please set `input_example` parameter when logging the model to auto infer the model signature.\n"
          ]
        },
        {
          "name": "stdout",
          "output_type": "stream",
          "text": [
            "🏃 View run RandomForestRegressor Directional at: http://localhost:5000/#/experiments/908622595079996776/runs/d12c2673cee94c17ba1ac7f4c4efec83\n",
            "🧪 View experiment at: http://localhost:5000/#/experiments/908622595079996776\n"
          ]
        },
        {
          "name": "stderr",
          "output_type": "stream",
          "text": [
            "2025/01/10 23:48:41 WARNING mlflow.models.model: Model logged without a signature and input example. Please set `input_example` parameter when logging the model to auto infer the model signature.\n"
          ]
        },
        {
          "name": "stdout",
          "output_type": "stream",
          "text": [
            "🏃 View run LinearRegression Directional at: http://localhost:5000/#/experiments/908622595079996776/runs/607e9e82306040359b58e3c7d97825ad\n",
            "🧪 View experiment at: http://localhost:5000/#/experiments/908622595079996776\n"
          ]
        }
      ],
      "source": [
        "mlflow.set_experiment(\"Abalone Classification\")\n",
        "mlflow.set_tracking_uri(\"http://localhost:5000\")\n",
        "\n",
        "for model in models:\n",
        "    model_name = type(model).__name__\n",
        "    model_params = model.get_params()\n",
        "\n",
        "    with mlflow.start_run(run_name=model_name + \" Directional\"):\n",
        "\n",
        "        model.fit(X_train_scaled, y_train)\n",
        "\n",
        "        y_pred = model.predict(df_scaled)\n",
        "        y_pred_add = model.predict(df_add_scaled)\n",
        "\n",
        "        results = {\n",
        "        \"Original Target\": 15,\n",
        "        \"Predict Target\": y_pred,\n",
        "        \"Predict Target Add\": y_pred_add\n",
        "        }\n",
        "        \n",
        "        mlflow.log_metrics(results)\n",
        "        mlflow.sklearn.log_model(model, \"model\")"
      ]
    },
    {
      "cell_type": "markdown",
      "metadata": {},
      "source": [
        "When trying a single row, all three gave bad results. When increasing the length, the number of rings should increase, and no model achieved this. The least bad was randomForst."
      ]
    }
  ],
  "metadata": {
    "colab": {
      "provenance": []
    },
    "kernelspec": {
      "display_name": "Python 3",
      "name": "python3"
    },
    "language_info": {
      "codemirror_mode": {
        "name": "ipython",
        "version": 3
      },
      "file_extension": ".py",
      "mimetype": "text/x-python",
      "name": "python",
      "nbconvert_exporter": "python",
      "pygments_lexer": "ipython3",
      "version": "3.12.5"
    }
  },
  "nbformat": 4,
  "nbformat_minor": 0
}
